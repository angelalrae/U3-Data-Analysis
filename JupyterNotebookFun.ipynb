{
 "cells": [
  {
   "cell_type": "code",
   "execution_count": 1,
   "metadata": {},
   "outputs": [],
   "source": [
    "import numpy as np\n",
    "import matplotlib.pyplot as plt\n",
    "\n",
    "# we are gonna make a dataset\n",
    "# that roughly resembles y = 2x plus some noise\n",
    "x = list(range(100))\n",
    "y = [val * 2 + np.random.normal(0, 20, 1)[0] for val in x]\n",
    "#print(x)\n",
    "#print(y)\n",
    "plt.scatter(x, y)\n",
    "# recall y = mx + b\n",
    "# use least squares linear regression to fit a line to our data\n",
    "# the line has to pass through (mean_x, mean_y)\n",
    "# can calculate m using a formula that is based\n",
    "# on the distance of x and y values from the means\n",
    "mean_x = np.mean(x)\n",
    "mean_y = np.mean(y)\n",
    "m = sum([(x[i] - mean_x) * (y[i] - mean_y) for i in range(len(x))]) / \\\n",
    "        sum([(x[i] - mean_x) ** 2 for i in range(len(x))]) \n",
    "# b = y - mx\n",
    "b = mean_y - m * mean_x\n",
    "# lw is line width \n",
    "# the ; suppresses console output\n",
    "plt.plot([min(x), max(x)], [m * min(x) + b, m * max(x) + b], color=\"r\", lw=5);\n",
    "\n",
    "# see the linear regression notes for details on quantifying\n",
    "# the strength of a relationship between two variables using\n",
    "# covariance and correlation"
   ]
  },
  {
   "cell_type": "code",
   "execution_count": null,
   "metadata": {},
   "outputs": [],
   "source": []
  }
 ],
 "metadata": {
  "kernelspec": {
   "display_name": "Python 3",
   "language": "python",
   "name": "python3"
  },
  "language_info": {
   "codemirror_mode": {
    "name": "ipython",
    "version": 3
   },
   "file_extension": ".py",
   "mimetype": "text/x-python",
   "name": "python",
   "nbconvert_exporter": "python",
   "pygments_lexer": "ipython3",
   "version": "3.7.1"
  }
 },
 "nbformat": 4,
 "nbformat_minor": 2
}
