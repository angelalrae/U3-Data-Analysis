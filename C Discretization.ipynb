{
 "cells": [
  {
   "cell_type": "markdown",
   "metadata": {},
   "source": [
    "# [CPSC 310](https://github.com/GonzagaCPSC310) Data Mining\n",
    "[Gonzaga University](https://www.gonzaga.edu/)\n",
    "\n",
    "[Gina Sprint](http://cs.gonzaga.edu/faculty/sprint/)\n",
    "\n",
    "# Discretization\n",
    "What are our learning objectives for this lesson?\n",
    "* Transform a continuous attribute into a categorical attribute using discretization\n",
    "\n",
    "Content used in this lesson is based upon information in the following sources:\n",
    "* Dr. Shawn Bowers' Data Mining notes"
   ]
  },
  {
   "cell_type": "markdown",
   "metadata": {},
   "source": [
    "## Discretization\n",
    "Discretization is converting numeric (continuous) attributes to be discrete (categorical). Here are a few reasons you might apply discretization:\n",
    "* To create frequency diagrams\n",
    "* To look at relationships (e.g., to another discrete attribute)\n",
    "* To remove \"noise\"\n",
    "* To use with specific mining algorithms\n",
    "\n",
    "One approach: Partition the values into disjoint consecutive subranges (bins)\n",
    "* Each bin (or bucket) denotes a category (ordinal)\n",
    "* The range of each bin is the width\n",
    "* Note that for n bins, we assume there are n cutoff points\n",
    "    * Includes max value (as last cutoff)\n",
    "    * All bins are are half-open. For example, if the cutoffs are \\[1, 2, 3, 4\\] then the first bin is (-inf, 1\\] and the second (1, 2\\] and the third (2, 3\\] and the last (3, 4\\]\n",
    "* Alternatively we could assume other conventions, such as\n",
    "    * n - 1 cutoffs and not include max as last cutoff\n",
    "    * n + 1 cutoffs (including the min and max value) which is the approach that numpy's [histogram()](https://docs.scipy.org/doc/numpy/reference/generated/numpy.histogram.html#numpy.histogram) function uses\n",
    "        * All but the last (righthand-most) bin is half-open. For example, if the cutoffs are \\[1, 2, 3, 4\\] then the first bin is \\[1, 2) and the second \\[2, 3). The last bin, however, is \\[3, 4\\]\n",
    "\n",
    "\n",
    "### Some \"Binning\" Techniques\n",
    "* Real, meaningful bins for the domain\n",
    "     * e.g., US DOE fuel economy rating\n",
    "     * The values that define bins are called \"cut points\"\n",
    "     \n",
    "Rating |MPG\n",
    "-|-|\n",
    "10 |≥ 45\n",
    "9 |37–44\n",
    "8 |31–36\n",
    "7 |27–30\n",
    "6 |24–26\n",
    "5 |20–23\n",
    "4 |17–19\n",
    "3 |15–16\n",
    "2 |14\n",
    "1 |≤ 13\n",
    "\n",
    "* Define equal-width intervals\n",
    "    * Can artificially skew data (e.g., most values in one or two bins)\n",
    "* Define equal-frequency intervals\n",
    "     * Doesn't take into account the actual distribution\n",
    "* Cluster analysis (clustering)\n",
    "    * Partition values into similar groups\n",
    "         * e.g., based on closeness of data points\n",
    "* Classification-based approaches\n",
    "     * Find cut points that create ranges with instances having the most number of the same classes as possible\n",
    "     \n",
    "### Discretization Lab\n",
    "1. Given a table object, an attribute index, and the number of equal-width bins to create, write a function to return a list of the cutoff points.\n",
    "1. Given a table object, an attribute index, and a list of cutoff points, write a function to return the corresponding frequencies of the bins."
   ]
  }
 ],
 "metadata": {
  "anaconda-cloud": {},
  "kernelspec": {
   "display_name": "Python 3",
   "language": "python",
   "name": "python3"
  },
  "language_info": {
   "codemirror_mode": {
    "name": "ipython",
    "version": 3
   },
   "file_extension": ".py",
   "mimetype": "text/x-python",
   "name": "python",
   "nbconvert_exporter": "python",
   "pygments_lexer": "ipython3",
   "version": "3.7.1"
  }
 },
 "nbformat": 4,
 "nbformat_minor": 1
}
